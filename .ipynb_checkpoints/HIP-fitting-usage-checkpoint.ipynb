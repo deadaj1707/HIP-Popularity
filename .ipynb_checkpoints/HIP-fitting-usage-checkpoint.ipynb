{
 "cells": [
  {
   "cell_type": "markdown",
   "metadata": {},
   "source": [
    "Expecting to be HIP: <br/> Hawkes Intensity Processes for Social Media Popularity\n",
    "==="
   ]
  },
  {
   "cell_type": "markdown",
   "metadata": {},
   "source": [
    "This repository contains:\n",
    "- the link to [an interactive visualization system](#hip-visualization-system) for HIP;\n",
    "- [a short tutorial](#using-hip-and-the-active-dataset-a-short-tutorial) on exploring the ACTIVE dataset and fitting HIP to data;\n",
    "- the [ACTIVE twitted videos dataset](#the-active-dataset);\n",
    "- R code required for [fitting HIP to real data](#fitting-hip) and [forecasting future popularity with HIP](#forecasting-with-hip);\n",
    "- [Python code](#hip-in-python) for fitting HIP and forecasting future popularity."
   ]
  },
  {
   "cell_type": "markdown",
   "metadata": {},
   "source": []
  },
  {
   "cell_type": "markdown",
   "metadata": {},
   "source": []
  },
  {
   "cell_type": "markdown",
   "metadata": {},
   "source": [
    "# Using HIP and the ACTIVE dataset"
   ]
  },
  {
   "cell_type": "markdown",
   "metadata": {},
   "source": [
    "First load (and if required install) the libraries needed for HIP. \n",
    "The file `code/functions-fitting-data.R` contains all functions for simulating and fitting."
   ]
  },
  {
   "cell_type": "code",
   "execution_count": 13,
   "metadata": {},
   "outputs": [],
   "source": [
    "## make sure required packages are installed and loaded\n",
    "source(\"code/requiredPackages.R\")\n",
    "source(\"code/functions-fitting-data.R\")"
   ]
  },
  {
   "cell_type": "markdown",
   "metadata": {},
   "source": [
    "## The ACTIVE dataset"
   ]
  },
  {
   "cell_type": "markdown",
   "metadata": {},
   "source": [
    "Load the ACTIVE dataset from the JSON format. Note that this requires more that 8GB of memory, due to the `jsonlite` library. In order to speed up the dataset loading for subsequent executions, after the first loading we create a R binary file. The binary file speeds up loading considerably."
   ]
  },
  {
   "cell_type": "code",
   "execution_count": 14,
   "metadata": {},
   "outputs": [
    {
     "name": "stdout",
     "output_type": "stream",
     "text": [
      "[1] \"--> Loading the ACTIVE dataset from DAT format...\"\n"
     ]
    }
   ],
   "source": [
    "## load the ACTIVE dataset. First time it gets loaded from the JSON format and duplicated \n",
    "## into an R binary file (way faster to load, less memory consumption)\n",
    "## check if the binary exists\n",
    "if ( !file.exists(\"data/active-dataset.dat\")) {\n",
    "  print(\"--> Loading the ACTIVE dataset from JSON format... might take a while!\")\n",
    "  dataset <- fromJSON(txt = \"data/active-dataset.json.bz2\", flatten = T)\n",
    "  ## save repeating the lengthy loading process, by saving the \"dataset\" data.frame into a R binary file.\n",
    "  save(dataset, file = \"data/active-dataset.dat\", compress = \"bzip2\")\n",
    "} else {\n",
    "  print(\"--> Loading the ACTIVE dataset from DAT format...\")\n",
    "  load(\"data/active-dataset.dat\")\n",
    "}"
   ]
  },
  {
   "cell_type": "markdown",
   "metadata": {},
   "source": [
    "Explore the content of the dataset. \n",
    "Each line is coresponds to a video. \n",
    "Columns correpond to the different information available for each video, such as video *title*, author (entitle here *channelTitle*), *uploadDate* etc.\n",
    "HIP requires the series of views (*dailyViewcount*) as observed popularity and of shares (*numShare*) or tweets (*dailyTweets*) as exogenous stimuli.\n",
    "Note that metadata information is not available for all videos."
   ]
  },
  {
   "cell_type": "code",
   "execution_count": 3,
   "metadata": {},
   "outputs": [
    {
     "name": "stdout",
     "output_type": "stream",
     "text": [
      " [1] \"YoutubeID\"                 \"numTweet\"                 \n",
      " [3] \"numShare\"                  \"numSubscriber\"            \n",
      " [5] \"watchTime\"                 \"dailyViewcount\"           \n",
      " [7] \"description\"               \"title\"                    \n",
      " [9] \"channelId\"                 \"channelTitle\"             \n",
      "[11] \"category\"                  \"uploadDate\"               \n",
      "[13] \"duration\"                  \"definition\"               \n",
      "[15] \"dimension\"                 \"caption\"                  \n",
      "[17] \"regionRestriction.blocked\" \"regionRestriction.allowed\"\n",
      "[19] \"topicIds\"                  \"relevantTopicIds\"         \n",
      "[21] \"totalShare\"                \"totalViewcount\"           \n",
      "[23] \"totalTweet\"                \"dailyTweets\"              \n"
     ]
    }
   ],
   "source": [
    "## let's explore what information we have available for each video\n",
    "print(names(dataset))"
   ]
  },
  {
   "cell_type": "markdown",
   "metadata": {},
   "source": [
    "We can extract the information related to a single video, and print it for inspection."
   ]
  },
  {
   "cell_type": "code",
   "execution_count": 4,
   "metadata": {},
   "outputs": [
    {
     "data": {
      "text/html": [
       "<table>\n",
       "<thead><tr><th scope=col>YoutubeID</th><th scope=col>numShare</th><th scope=col>dailyViewcount</th><th scope=col>description</th><th scope=col>title</th><th scope=col>channelId</th><th scope=col>channelTitle</th><th scope=col>category</th><th scope=col>uploadDate</th><th scope=col>duration</th><th scope=col>...</th><th scope=col>dimension</th><th scope=col>caption</th><th scope=col>regionRestriction.blocked</th><th scope=col>regionRestriction.allowed</th><th scope=col>topicIds</th><th scope=col>relevantTopicIds</th><th scope=col>totalShare</th><th scope=col>totalViewcount</th><th scope=col>totalTweet</th><th scope=col>dailyTweets</th></tr></thead>\n",
       "<tbody>\n",
       "\t<tr><td>00-6OyXVA0M                                                                                                                                                                                                                                                                                                                                                                                                                                                                                                                                                                                                                                                                                                                                                                              </td><td>254, 1399, 493, 242, 175, 216, 372, 729, 305, 154, 75, 68, 60, 44, 44, 44, 39, 24, 25, 28, 15, 17, 18, 14, 16, 15, 8, 12, 9, 1, 3, 5, 8, 3, 7, 7, 3, 4, 4, 1, 3, 3, 2, 3, 6, 0, 4, 4, 2, 4, 0, 8, 6, 3, 5, 4, 3, 2, 2, 1, 4, 13, 12, 12, 13, 5, 7, 2, 9, 4, 2, 3, 0, 7, 1, 1, 3, 1, 1, 5, 3, 10, 0, 4, 5, 1, 0, 2, 3, 2, 1, 0, 0, 1, 0, 1, 1, 2, 1, 2, 0, 0, 2, 1, 0, 0, 1, 1, 1, 2, 6, 1, 0, 1, 0, 2, 2, 0, 1, 0, 0, 0, 2, 1, 0, 0, 1, 4, 4, 4                                                                                                                                                                                                                                                                                                                                          </td><td>90158, 695628, 312298, 170348, 82346, 61530, 76116, 229360, 109262, 40695, 26952, 18167, 13951, 11266, 11866, 18949, 18264, 13971, 8641, 7085, 5337, 4063, 4119, 5385, 4898, 4270, 3447, 3061, 2491, 1897, 1836, 2192, 2087, 2118, 2010, 1993, 1792, 1921, 1977, 1671, 1594, 1404, 1574, 1483, 1459, 1671, 1400, 1252, 1383, 1251, 1375, 1176, 1528, 1270, 1760, 1526, 1295, 1049, 1034, 1308, 1353, 1965, 2950, 2402, 1800, 1636, 2010, 1573, 1443, 1254, 1307, 1224, 888, 1021, 861, 982, 855, 1176, 1275, 1729, 2061, 2982, 1760, 1872, 1708, 1139, 1084, 1152, 901, 629, 585, 601, 465, 498, 627, 482, 629, 658, 714, 747, 566, 664, 546, 433, 357, 463, 379, 373, 450, 493, 452, 452, 423, 1056, 1407, 1153, 1081, 664, 576, 471, 400, 572, 639, 711, 525, 499, 893, 999, 1308, 1073</td><td>Bill's response to Victoria Osteen's congregational message.\n",
       "The Osteen video was already out before I did the added clip of Bill Cosby.                                                                                                                                                                                                                                                                                                                                                                                                                                                                                                                                                                                                                                                </td><td>Bill Cosby responds to Victoria Osteen                                                                                                                                                                                                                                                                                                                                                                                                                                                                                                                                                                                                                                                                                                                                                   </td><td>UCpzGw-b-rEPjRs2LT0ZVHTQ                                                                                                                                                                                                                                                                                                                                                                                                                                                                                                                                                                                                                                                                                                                                                                 </td><td>Bryant Harris                                                                                                                                                                                                                                                                                                                                                                                                                                                                                                                                                                                                                                                                                                                                                                            </td><td>Entertainment                                                                                                                                                                                                                                                                                                                                                                                                                                                                                                                                                                                                                                                                                                                                                                            </td><td>2014-08-29 06:19:14                                                                                                                                                                                                                                                                                                                                                                                                                                                                                                                                                                                                                                                                                                                                                                      </td><td>PT39S                                                                                                                                                                                                                                                                                                                                                                                                                                                                                                                                                                                                                                                                                                                                                                                    </td><td>...                                                                                                                                                                                                                                                                                                                                                                                                                                                                                                                                                                                                                                                                                                                                                                                      </td><td>2d                                                                                                                                                                                                                                                                                                                                                                                                                                                                                                                                                                                                                                                                                                                                                                                       </td><td>false                                                                                                                                                                                                                                                                                                                                                                                                                                                                                                                                                                                                                                                                                                                                                                                    </td><td>NULL                                                                                                                                                                                                                                                                                                                                                                                                                                                                                                                                                                                                                                                                                                                                                                                     </td><td>NULL                                                                                                                                                                                                                                                                                                                                                                                                                                                                                                                                                                                                                                                                                                                                                                                     </td><td>/m/03bxbhz, /m/03ny9x , /m/014zfs                                                                                                                                                                                                                                                                                                                                                                                                                                                                                                                                                                                                                                                                                                                                                        </td><td>/m/06bvp                                                                                                                                                                                                                                                                                                                                                                                                                                                                                                                                                                                                                                                                                                                                                                                 </td><td>5206                                                                                                                                                                                                                                                                                                                                                                                                                                                                                                                                                                                                                                                                                                                                                                                     </td><td>2174286                                                                                                                                                                                                                                                                                                                                                                                                                                                                                                                                                                                                                                                                                                                                                                                  </td><td>3857                                                                                                                                                                                                                                                                                                                                                                                                                                                                                                                                                                                                                                                                                                                                                                                     </td><td>2588, 455, 157, 100, 86, 76, 102, 64, 28, 23, 21, 14, 16, 7, 8, 8, 7, 2, 3, 6, 3, 2, 5, 2, 4, 0, 2, 1, 0, 1, 1, 1, 0, 2, 4, 0, 2, 1, 2, 1, 0, 0, 0, 0, 1, 0, 1, 0, 1, 2, 1, 1, 0, 0, 1, 3, 1, 0, 0, 1, 1, 2, 0, 2, 1, 1, 1, 1, 0, 0, 1, 0, 1, 1, 0, 0, 0, 1, 1, 0, 1, 0, 0, 1, 0, 0, 0, 0, 1, 0, 0, 0, 0, 0, 0, 0, 0, 0, 1, 0, 0, 2, 0, 0, 1, 0, 0, 0, 0, 0, 1, 1, 0, 0, 1, 0, 0, 1, NA, NA, NA, NA, NA, NA, NA, NA, NA, NA, NA, NA                                                                                                                                                                                                                                                                                                                                                      </td></tr>\n",
       "</tbody>\n",
       "</table>\n"
      ],
      "text/latex": [
       "\\begin{tabular}{r|lllllllllllllllllllll}\n",
       " YoutubeID & numShare & dailyViewcount & description & title & channelId & channelTitle & category & uploadDate & duration & ... & dimension & caption & regionRestriction.blocked & regionRestriction.allowed & topicIds & relevantTopicIds & totalShare & totalViewcount & totalTweet & dailyTweets\\\\\n",
       "\\hline\n",
       "\t 00-6OyXVA0M                                                                                                                                                                                                                                                                                                                                                                                                                                                                                                                                                                                                                                                                                                                                                                               & 254, 1399, 493, 242, 175, 216, 372, 729, 305, 154, 75, 68, 60, 44, 44, 44, 39, 24, 25, 28, 15, 17, 18, 14, 16, 15, 8, 12, 9, 1, 3, 5, 8, 3, 7, 7, 3, 4, 4, 1, 3, 3, 2, 3, 6, 0, 4, 4, 2, 4, 0, 8, 6, 3, 5, 4, 3, 2, 2, 1, 4, 13, 12, 12, 13, 5, 7, 2, 9, 4, 2, 3, 0, 7, 1, 1, 3, 1, 1, 5, 3, 10, 0, 4, 5, 1, 0, 2, 3, 2, 1, 0, 0, 1, 0, 1, 1, 2, 1, 2, 0, 0, 2, 1, 0, 0, 1, 1, 1, 2, 6, 1, 0, 1, 0, 2, 2, 0, 1, 0, 0, 0, 2, 1, 0, 0, 1, 4, 4, 4                                                                                                                                                                                                                                                                                                                                           & 90158, 695628, 312298, 170348, 82346, 61530, 76116, 229360, 109262, 40695, 26952, 18167, 13951, 11266, 11866, 18949, 18264, 13971, 8641, 7085, 5337, 4063, 4119, 5385, 4898, 4270, 3447, 3061, 2491, 1897, 1836, 2192, 2087, 2118, 2010, 1993, 1792, 1921, 1977, 1671, 1594, 1404, 1574, 1483, 1459, 1671, 1400, 1252, 1383, 1251, 1375, 1176, 1528, 1270, 1760, 1526, 1295, 1049, 1034, 1308, 1353, 1965, 2950, 2402, 1800, 1636, 2010, 1573, 1443, 1254, 1307, 1224, 888, 1021, 861, 982, 855, 1176, 1275, 1729, 2061, 2982, 1760, 1872, 1708, 1139, 1084, 1152, 901, 629, 585, 601, 465, 498, 627, 482, 629, 658, 714, 747, 566, 664, 546, 433, 357, 463, 379, 373, 450, 493, 452, 452, 423, 1056, 1407, 1153, 1081, 664, 576, 471, 400, 572, 639, 711, 525, 499, 893, 999, 1308, 1073 & Bill's response to Victoria Osteen's congregational message.\n",
       "The Osteen video was already out before I did the added clip of Bill Cosby.                                                                                                                                                                                                                                                                                                                                                                                                                                                                                                                                                                                                                                                 & Bill Cosby responds to Victoria Osteen                                                                                                                                                                                                                                                                                                                                                                                                                                                                                                                                                                                                                                                                                                                                                    & UCpzGw-b-rEPjRs2LT0ZVHTQ                                                                                                                                                                                                                                                                                                                                                                                                                                                                                                                                                                                                                                                                                                                                                                  & Bryant Harris                                                                                                                                                                                                                                                                                                                                                                                                                                                                                                                                                                                                                                                                                                                                                                             & Entertainment                                                                                                                                                                                                                                                                                                                                                                                                                                                                                                                                                                                                                                                                                                                                                                             & 2014-08-29 06:19:14                                                                                                                                                                                                                                                                                                                                                                                                                                                                                                                                                                                                                                                                                                                                                                       & PT39S                                                                                                                                                                                                                                                                                                                                                                                                                                                                                                                                                                                                                                                                                                                                                                                     & ...                                                                                                                                                                                                                                                                                                                                                                                                                                                                                                                                                                                                                                                                                                                                                                                       & 2d                                                                                                                                                                                                                                                                                                                                                                                                                                                                                                                                                                                                                                                                                                                                                                                        & false                                                                                                                                                                                                                                                                                                                                                                                                                                                                                                                                                                                                                                                                                                                                                                                     & NULL                                                                                                                                                                                                                                                                                                                                                                                                                                                                                                                                                                                                                                                                                                                                                                                      & NULL                                                                                                                                                                                                                                                                                                                                                                                                                                                                                                                                                                                                                                                                                                                                                                                      & /m/03bxbhz, /m/03ny9x , /m/014zfs                                                                                                                                                                                                                                                                                                                                                                                                                                                                                                                                                                                                                                                                                                                                                         & /m/06bvp                                                                                                                                                                                                                                                                                                                                                                                                                                                                                                                                                                                                                                                                                                                                                                                  & 5206                                                                                                                                                                                                                                                                                                                                                                                                                                                                                                                                                                                                                                                                                                                                                                                      & 2174286                                                                                                                                                                                                                                                                                                                                                                                                                                                                                                                                                                                                                                                                                                                                                                                   & 3857                                                                                                                                                                                                                                                                                                                                                                                                                                                                                                                                                                                                                                                                                                                                                                                      & 2588, 455, 157, 100, 86, 76, 102, 64, 28, 23, 21, 14, 16, 7, 8, 8, 7, 2, 3, 6, 3, 2, 5, 2, 4, 0, 2, 1, 0, 1, 1, 1, 0, 2, 4, 0, 2, 1, 2, 1, 0, 0, 0, 0, 1, 0, 1, 0, 1, 2, 1, 1, 0, 0, 1, 3, 1, 0, 0, 1, 1, 2, 0, 2, 1, 1, 1, 1, 0, 0, 1, 0, 1, 1, 0, 0, 0, 1, 1, 0, 1, 0, 0, 1, 0, 0, 0, 0, 1, 0, 0, 0, 0, 0, 0, 0, 0, 0, 1, 0, 0, 2, 0, 0, 1, 0, 0, 0, 0, 0, 1, 1, 0, 0, 1, 0, 0, 1, NA, NA, NA, NA, NA, NA, NA, NA, NA, NA, NA, NA                                                                                                                                                                                                                                                                                                                                                      \\\\\n",
       "\\end{tabular}\n"
      ],
      "text/markdown": [
       "\n",
       "| YoutubeID | numShare | dailyViewcount | description | title | channelId | channelTitle | category | uploadDate | duration | ... | dimension | caption | regionRestriction.blocked | regionRestriction.allowed | topicIds | relevantTopicIds | totalShare | totalViewcount | totalTweet | dailyTweets |\n",
       "|---|---|---|---|---|---|---|---|---|---|---|---|---|---|---|---|---|---|---|---|---|\n",
       "| 00-6OyXVA0M                                                                                                                                                                                                                                                                                                                                                                                                                                                                                                                                                                                                                                                                                                                                                                               | 254, 1399, 493, 242, 175, 216, 372, 729, 305, 154, 75, 68, 60, 44, 44, 44, 39, 24, 25, 28, 15, 17, 18, 14, 16, 15, 8, 12, 9, 1, 3, 5, 8, 3, 7, 7, 3, 4, 4, 1, 3, 3, 2, 3, 6, 0, 4, 4, 2, 4, 0, 8, 6, 3, 5, 4, 3, 2, 2, 1, 4, 13, 12, 12, 13, 5, 7, 2, 9, 4, 2, 3, 0, 7, 1, 1, 3, 1, 1, 5, 3, 10, 0, 4, 5, 1, 0, 2, 3, 2, 1, 0, 0, 1, 0, 1, 1, 2, 1, 2, 0, 0, 2, 1, 0, 0, 1, 1, 1, 2, 6, 1, 0, 1, 0, 2, 2, 0, 1, 0, 0, 0, 2, 1, 0, 0, 1, 4, 4, 4                                                                                                                                                                                                                                                                                                                                           | 90158, 695628, 312298, 170348, 82346, 61530, 76116, 229360, 109262, 40695, 26952, 18167, 13951, 11266, 11866, 18949, 18264, 13971, 8641, 7085, 5337, 4063, 4119, 5385, 4898, 4270, 3447, 3061, 2491, 1897, 1836, 2192, 2087, 2118, 2010, 1993, 1792, 1921, 1977, 1671, 1594, 1404, 1574, 1483, 1459, 1671, 1400, 1252, 1383, 1251, 1375, 1176, 1528, 1270, 1760, 1526, 1295, 1049, 1034, 1308, 1353, 1965, 2950, 2402, 1800, 1636, 2010, 1573, 1443, 1254, 1307, 1224, 888, 1021, 861, 982, 855, 1176, 1275, 1729, 2061, 2982, 1760, 1872, 1708, 1139, 1084, 1152, 901, 629, 585, 601, 465, 498, 627, 482, 629, 658, 714, 747, 566, 664, 546, 433, 357, 463, 379, 373, 450, 493, 452, 452, 423, 1056, 1407, 1153, 1081, 664, 576, 471, 400, 572, 639, 711, 525, 499, 893, 999, 1308, 1073 | Bill's response to Victoria Osteen's congregational message.\n",
       "The Osteen video was already out before I did the added clip of Bill Cosby.                                                                                                                                                                                                                                                                                                                                                                                                                                                                                                                                                                                                                                                 | Bill Cosby responds to Victoria Osteen                                                                                                                                                                                                                                                                                                                                                                                                                                                                                                                                                                                                                                                                                                                                                    | UCpzGw-b-rEPjRs2LT0ZVHTQ                                                                                                                                                                                                                                                                                                                                                                                                                                                                                                                                                                                                                                                                                                                                                                  | Bryant Harris                                                                                                                                                                                                                                                                                                                                                                                                                                                                                                                                                                                                                                                                                                                                                                             | Entertainment                                                                                                                                                                                                                                                                                                                                                                                                                                                                                                                                                                                                                                                                                                                                                                             | 2014-08-29 06:19:14                                                                                                                                                                                                                                                                                                                                                                                                                                                                                                                                                                                                                                                                                                                                                                       | PT39S                                                                                                                                                                                                                                                                                                                                                                                                                                                                                                                                                                                                                                                                                                                                                                                     | ...                                                                                                                                                                                                                                                                                                                                                                                                                                                                                                                                                                                                                                                                                                                                                                                       | 2d                                                                                                                                                                                                                                                                                                                                                                                                                                                                                                                                                                                                                                                                                                                                                                                        | false                                                                                                                                                                                                                                                                                                                                                                                                                                                                                                                                                                                                                                                                                                                                                                                     | NULL                                                                                                                                                                                                                                                                                                                                                                                                                                                                                                                                                                                                                                                                                                                                                                                      | NULL                                                                                                                                                                                                                                                                                                                                                                                                                                                                                                                                                                                                                                                                                                                                                                                      | /m/03bxbhz, /m/03ny9x , /m/014zfs                                                                                                                                                                                                                                                                                                                                                                                                                                                                                                                                                                                                                                                                                                                                                         | /m/06bvp                                                                                                                                                                                                                                                                                                                                                                                                                                                                                                                                                                                                                                                                                                                                                                                  | 5206                                                                                                                                                                                                                                                                                                                                                                                                                                                                                                                                                                                                                                                                                                                                                                                      | 2174286                                                                                                                                                                                                                                                                                                                                                                                                                                                                                                                                                                                                                                                                                                                                                                                   | 3857                                                                                                                                                                                                                                                                                                                                                                                                                                                                                                                                                                                                                                                                                                                                                                                      | 2588, 455, 157, 100, 86, 76, 102, 64, 28, 23, 21, 14, 16, 7, 8, 8, 7, 2, 3, 6, 3, 2, 5, 2, 4, 0, 2, 1, 0, 1, 1, 1, 0, 2, 4, 0, 2, 1, 2, 1, 0, 0, 0, 0, 1, 0, 1, 0, 1, 2, 1, 1, 0, 0, 1, 3, 1, 0, 0, 1, 1, 2, 0, 2, 1, 1, 1, 1, 0, 0, 1, 0, 1, 1, 0, 0, 0, 1, 1, 0, 1, 0, 0, 1, 0, 0, 0, 0, 1, 0, 0, 0, 0, 0, 0, 0, 0, 0, 1, 0, 0, 2, 0, 0, 1, 0, 0, 0, 0, 0, 1, 1, 0, 0, 1, 0, 0, 1, NA, NA, NA, NA, NA, NA, NA, NA, NA, NA, NA, NA                                                                                                                                                                                                                                                                                                                                                       |\n",
       "\n"
      ],
      "text/plain": [
       "  YoutubeID  \n",
       "1 00-6OyXVA0M\n",
       "  numShare                                                                                                                                                                                                                                                                                                                                                                                                                                       \n",
       "1 254, 1399, 493, 242, 175, 216, 372, 729, 305, 154, 75, 68, 60, 44, 44, 44, 39, 24, 25, 28, 15, 17, 18, 14, 16, 15, 8, 12, 9, 1, 3, 5, 8, 3, 7, 7, 3, 4, 4, 1, 3, 3, 2, 3, 6, 0, 4, 4, 2, 4, 0, 8, 6, 3, 5, 4, 3, 2, 2, 1, 4, 13, 12, 12, 13, 5, 7, 2, 9, 4, 2, 3, 0, 7, 1, 1, 3, 1, 1, 5, 3, 10, 0, 4, 5, 1, 0, 2, 3, 2, 1, 0, 0, 1, 0, 1, 1, 2, 1, 2, 0, 0, 2, 1, 0, 0, 1, 1, 1, 2, 6, 1, 0, 1, 0, 2, 2, 0, 1, 0, 0, 0, 2, 1, 0, 0, 1, 4, 4, 4\n",
       "  dailyViewcount                                                                                                                                                                                                                                                                                                                                                                                                                                                                                                                                                                                                                                                                                                                                                                           \n",
       "1 90158, 695628, 312298, 170348, 82346, 61530, 76116, 229360, 109262, 40695, 26952, 18167, 13951, 11266, 11866, 18949, 18264, 13971, 8641, 7085, 5337, 4063, 4119, 5385, 4898, 4270, 3447, 3061, 2491, 1897, 1836, 2192, 2087, 2118, 2010, 1993, 1792, 1921, 1977, 1671, 1594, 1404, 1574, 1483, 1459, 1671, 1400, 1252, 1383, 1251, 1375, 1176, 1528, 1270, 1760, 1526, 1295, 1049, 1034, 1308, 1353, 1965, 2950, 2402, 1800, 1636, 2010, 1573, 1443, 1254, 1307, 1224, 888, 1021, 861, 982, 855, 1176, 1275, 1729, 2061, 2982, 1760, 1872, 1708, 1139, 1084, 1152, 901, 629, 585, 601, 465, 498, 627, 482, 629, 658, 714, 747, 566, 664, 546, 433, 357, 463, 379, 373, 450, 493, 452, 452, 423, 1056, 1407, 1153, 1081, 664, 576, 471, 400, 572, 639, 711, 525, 499, 893, 999, 1308, 1073\n",
       "  description                                                                                                                              \n",
       "1 Bill's response to Victoria Osteen's congregational message.\\nThe Osteen video was already out before I did the added clip of Bill Cosby.\n",
       "  title                                  channelId                channelTitle \n",
       "1 Bill Cosby responds to Victoria Osteen UCpzGw-b-rEPjRs2LT0ZVHTQ Bryant Harris\n",
       "  category      uploadDate          duration ... dimension caption\n",
       "1 Entertainment 2014-08-29 06:19:14 PT39S    ... 2d        false  \n",
       "  regionRestriction.blocked regionRestriction.allowed\n",
       "1 NULL                      NULL                     \n",
       "  topicIds                           relevantTopicIds totalShare totalViewcount\n",
       "1 /m/03bxbhz, /m/03ny9x , /m/014zfs  /m/06bvp         5206       2174286       \n",
       "  totalTweet\n",
       "1 3857      \n",
       "  dailyTweets                                                                                                                                                                                                                                                                                                                                                                                                                        \n",
       "1 2588, 455, 157, 100, 86, 76, 102, 64, 28, 23, 21, 14, 16, 7, 8, 8, 7, 2, 3, 6, 3, 2, 5, 2, 4, 0, 2, 1, 0, 1, 1, 1, 0, 2, 4, 0, 2, 1, 2, 1, 0, 0, 0, 0, 1, 0, 1, 0, 1, 2, 1, 1, 0, 0, 1, 3, 1, 0, 0, 1, 1, 2, 0, 2, 1, 1, 1, 1, 0, 0, 1, 0, 1, 1, 0, 0, 0, 1, 1, 0, 1, 0, 0, 1, 0, 0, 0, 0, 1, 0, 0, 0, 0, 0, 0, 0, 0, 0, 1, 0, 0, 2, 0, 0, 1, 0, 0, 0, 0, 0, 1, 1, 0, 0, 1, 0, 0, 1, NA, NA, NA, NA, NA, NA, NA, NA, NA, NA, NA, NA"
      ]
     },
     "metadata": {},
     "output_type": "display_data"
    }
   ],
   "source": [
    "## information about the first video in the dataset. For display reasons we exclude some fields.\n",
    "dataset[1, names(dataset)[! names(dataset) %in% c(\"numTweet\", \"watchTime\", \"numSubscriber\")]]"
   ]
  },
  {
   "cell_type": "markdown",
   "metadata": {},
   "source": [
    "Next, we select the views and shares series for the video **bUORBT9iFKc** presented in the paper, in Fig. 2a."
   ]
  },
  {
   "cell_type": "code",
   "execution_count": 47,
   "metadata": {},
   "outputs": [],
   "source": [
    "## let's get the #views and #shares series for a video\n",
    "vidYT <- \"bUORBT9iFKc\"\n",
    "vidID <- which(dataset$YoutubeID == vidYT)\n",
    "\n",
    "views <- dataset$dailyViewcount[[vidID]]\n",
    "shares <- dataset$numShare[[vidID]]\n",
    "dailytweets <- dataset$dailyTweets[[vidID]]"
   ]
  },
  {
   "cell_type": "markdown",
   "metadata": {},
   "source": [
    "We plot the two series on the same graph, on different y axes."
   ]
  },
  {
   "cell_type": "code",
   "execution_count": 52,
   "metadata": {
    "scrolled": false
   },
   "outputs": [
    {
     "data": {
      "image/png": "[encoded data removed]",
      "text/plain": [
       "Plot with title \"Popularity and exo series for video 'bUORBT9iFKc'\""
      ]
     },
     "metadata": {},
     "output_type": "display_data"
    }
   ],
   "source": [
    "# Assuming you have 'dates', 'views', 'shares', and 'dailytweets' variables available\n",
    "\n",
    "# Create a new plot with views and shares\n",
    "# Assuming you have 'dates', 'views', 'shares', and 'dailytweets' variables available\n",
    "\n",
    "# Create a new plot with views and shares\n",
    "plot(dates, views, type = \"l\", lty = 2, xaxt = \"n\",\n",
    "     xlab = \"\", ylab = \"#views\", \n",
    "     main = sprintf(\"Popularity and exo series for video '%s'\", dataset$YoutubeID[[vidID]] ))\n",
    "axis(1, at = dates[seq(from = 1, to = length(views), by = 14)], cex.axis = 1,\n",
    "     labels = dates[seq(from = 1, to = length(views), by = 14)])\n",
    "\n",
    "# Plot shares on a secondary y-axis\n",
    "par(new = TRUE)\n",
    "y_limit <- range(shares)\n",
    "# Scale it down\n",
    "y_limit[2] <- y_limit[2] * 3\n",
    "plot(x = dates, y = shares, type = \"l\", col = \"red\", ylim = y_limit,\n",
    "     xaxt = \"n\", yaxt = \"n\", xlab = \"\", ylab = \"\")\n",
    "axis(4, cex.main = 1.5, cex.axis = 1, cex.lab = 1.5, \n",
    "     at = round(seq(from = range(shares)[1], to = range(shares)[2], length.out = 6)))\n",
    "legend(\"topleft\", legend = c(\"#views\", \"#shares\",\"#tweets\"), col = c(\"black\", \"red\",\"blue\"), lty = c(2, 1), bty = \"n\")\n",
    "\n",
    "# Now add the plot for daily tweets on the same x-axis\n",
    "par(new = TRUE)\n",
    "y_limit_tweets <- range(na.omit(dailytweets))  # Exclude NA values from range calculation\n",
    "# Scale it down (adjust scaling as needed)\n",
    "y_limit_tweets[2] <- y_limit_tweets[2] * 1.5\n",
    "if (!any(is.finite(y_limit_tweets))) {\n",
    "  stop(\"No finite values in 'dailytweets'\")\n",
    "} else {\n",
    "  plot(x = dates, y = dailytweets, type = \"l\", col = \"blue\", ylim = y_limit_tweets,\n",
    "       xaxt = \"n\", yaxt = \"n\", xlab = \"\", ylab = \"\")\n",
    "  axis(4, cex.main = 1.5, cex.axis = 1, cex.lab = 1.5, \n",
    "       at = round(seq(from = y_limit_tweets[1], to = y_limit_tweets[2], length.out = 6)), col = \"blue\")\n",
    "}\n",
    "\n"
   ]
  },
  {
   "cell_type": "code",
   "execution_count": 25,
   "metadata": {},
   "outputs": [
    {
     "name": "stdout",
     "output_type": "stream",
     "text": [
      "[1] 7903\n",
      "[1] 9842\n",
      "[1] 9985\n",
      "[1] 8687\n",
      "[1] 6902\n",
      "[1] 4709\n",
      "[1] 5846\n",
      "[1] 14451\n",
      "[1] 15425\n",
      "[1] 13040\n",
      "[1] 14285\n",
      "[1] 10695\n",
      "[1] 11635\n",
      "[1] 12792\n",
      "[1] 11064\n",
      "[1] 10767\n",
      "[1] 11136\n",
      "[1] 12910\n",
      "[1] 12566\n",
      "[1] 10264\n",
      "[1] 11190\n",
      "[1] 10027\n",
      "[1] 11689\n",
      "[1] 12128\n",
      "[1] 13275\n",
      "[1] 13374\n",
      "[1] 10155\n",
      "[1] 13200\n",
      "[1] 12686\n",
      "[1] 13940\n",
      "[1] 11717\n",
      "[1] 15163\n",
      "[1] 16111\n",
      "[1] 11827\n",
      "[1] 12688\n",
      "[1] 12652\n",
      "[1] 14080\n",
      "[1] 16067\n",
      "[1] 18019\n",
      "[1] 16479\n",
      "[1] 12593\n",
      "[1] 13565\n",
      "[1] 12566\n",
      "[1] 13418\n",
      "[1] 13885\n",
      "[1] 15320\n",
      "[1] 13552\n",
      "[1] 10732\n",
      "[1] 10525\n",
      "[1] 9584\n",
      "[1] 11972\n",
      "[1] 11983\n",
      "[1] 14046\n",
      "[1] 13043\n",
      "[1] 9858\n",
      "[1] 14198\n",
      "[1] 13271\n",
      "[1] 13520\n",
      "[1] 13250\n",
      "[1] 14149\n",
      "[1] 14055\n",
      "[1] 10690\n",
      "[1] 12624\n",
      "[1] 13705\n",
      "[1] 13208\n",
      "[1] 14130\n",
      "[1] 16700\n",
      "[1] 18319\n",
      "[1] 12262\n",
      "[1] 12854\n",
      "[1] 12155\n",
      "[1] 11497\n",
      "[1] 13203\n",
      "[1] 15245\n",
      "[1] 14111\n",
      "[1] 11582\n",
      "[1] 12625\n",
      "[1] 10184\n",
      "[1] 12805\n",
      "[1] 13197\n",
      "[1] 13465\n",
      "[1] 11992\n",
      "[1] 9007\n",
      "[1] 10439\n",
      "[1] 10457\n",
      "[1] 11160\n",
      "[1] 12304\n",
      "[1] 12100\n",
      "[1] 11017\n",
      "[1] 10985\n",
      "[1] 11837\n",
      "[1] 11626\n",
      "[1] 12776\n",
      "[1] 11987\n",
      "[1] 13501\n",
      "[1] 12229\n",
      "[1] 8684\n",
      "[1] 10010\n",
      "[1] 10538\n",
      "[1] 10596\n",
      "[1] 10903\n",
      "[1] 11606\n",
      "[1] 11610\n",
      "[1] 9101\n",
      "[1] 10441\n",
      "[1] 10694\n",
      "[1] 10298\n",
      "[1] 10291\n",
      "[1] 12208\n",
      "[1] 10462\n",
      "[1] 8595\n",
      "[1] 9629\n",
      "[1] 9750\n",
      "[1] 10173\n",
      "[1] 10331\n",
      "[1] 11315\n",
      "[1] 10424\n",
      "[1] 8424\n",
      "[1] 10639\n",
      "[1] 11632\n",
      "[1] 11022\n",
      "[1] 11832\n",
      "[1] 11366\n",
      "[1] 10212\n",
      "[1] 9124\n",
      "[1] 10277\n",
      "[1] 12155\n",
      "[1] 12918\n",
      "[1] 7436\n",
      "[1] 9996\n",
      "[1] 12580\n",
      "[1] 11867\n",
      "[1] 14391\n",
      "[1] 15402\n",
      "[1] 14171\n",
      "[1] 8807\n",
      "[1] 12615\n",
      "[1] 12650\n",
      "[1] 12025\n",
      "[1] 14176\n",
      "[1] 13717\n",
      "[1] 13442\n",
      "[1] 11590\n",
      "[1] 13511\n",
      "[1] 12917\n",
      "[1] 9576\n",
      "[1] 10847\n",
      "[1] 11229\n",
      "[1] 12049\n",
      "[1] 12609\n",
      "[1] 12686\n",
      "[1] 11398\n",
      "[1] 8765\n"
     ]
    }
   ],
   "source": []
  },
  {
   "cell_type": "code",
   "execution_count": null,
   "metadata": {},
   "outputs": [],
   "source": []
  },
  {
   "cell_type": "code",
   "execution_count": 35,
   "metadata": {
    "scrolled": false
   },
   "outputs": [
    {
     "name": "stdout",
     "output_type": "stream",
     "text": [
      "[1] 54\n",
      "[1] 40\n",
      "[1] 24\n",
      "[1] 26\n",
      "[1] 25\n",
      "[1] 12\n",
      "[1] 8\n",
      "[1] 36\n",
      "[1] 36\n",
      "[1] 32\n",
      "[1] 55\n",
      "[1] 31\n",
      "[1] 19\n",
      "[1] 22\n",
      "[1] 26\n",
      "[1] 29\n",
      "[1] 31\n",
      "[1] 45\n",
      "[1] 31\n",
      "[1] 24\n",
      "[1] 24\n",
      "[1] 26\n",
      "[1] 23\n",
      "[1] 33\n",
      "[1] 49\n",
      "[1] 39\n",
      "[1] 28\n",
      "[1] 28\n",
      "[1] 36\n",
      "[1] 40\n",
      "[1] 31\n",
      "[1] 57\n",
      "[1] 35\n",
      "[1] 39\n",
      "[1] 40\n",
      "[1] 42\n",
      "[1] 33\n",
      "[1] 58\n",
      "[1] 50\n",
      "[1] 31\n",
      "[1] 29\n",
      "[1] 27\n",
      "[1] 26\n",
      "[1] 36\n",
      "[1] 34\n",
      "[1] 52\n",
      "[1] 28\n",
      "[1] 23\n",
      "[1] 17\n",
      "[1] 11\n",
      "[1] 16\n",
      "[1] 17\n",
      "[1] 45\n",
      "[1] 21\n",
      "[1] 19\n",
      "[1] 28\n",
      "[1] 32\n",
      "[1] 26\n",
      "[1] 28\n",
      "[1] 31\n",
      "[1] 17\n",
      "[1] 19\n",
      "[1] 30\n",
      "[1] 19\n",
      "[1] 15\n",
      "[1] 21\n",
      "[1] 51\n",
      "[1] 33\n",
      "[1] 21\n",
      "[1] 16\n",
      "[1] 13\n",
      "[1] 19\n",
      "[1] 21\n",
      "[1] 35\n",
      "[1] 38\n",
      "[1] 18\n",
      "[1] 17\n",
      "[1] 25\n",
      "[1] 18\n",
      "[1] 23\n",
      "[1] 37\n",
      "[1] 18\n",
      "[1] 22\n",
      "[1] 14\n",
      "[1] 19\n",
      "[1] 23\n",
      "[1] 14\n",
      "[1] 18\n",
      "[1] 15\n",
      "[1] 21\n",
      "[1] 18\n",
      "[1] 18\n",
      "[1] 24\n",
      "[1] 17\n",
      "[1] 29\n",
      "[1] 14\n",
      "[1] 12\n",
      "[1] 10\n",
      "[1] 13\n",
      "[1] 12\n",
      "[1] 15\n",
      "[1] 28\n",
      "[1] 17\n",
      "[1] 15\n",
      "[1] 11\n",
      "[1] 14\n",
      "[1] 22\n",
      "[1] 12\n",
      "[1] 12\n",
      "[1] 15\n",
      "[1] 9\n",
      "[1] 15\n",
      "[1] 8\n",
      "[1] 10\n",
      "[1] 9\n",
      "[1] 18\n",
      "[1] 13\n",
      "[1] 7\n",
      "[1] 11\n",
      "[1] 14\n",
      "[1] 12\n",
      "[1] 9\n",
      "[1] 13\n",
      "[1] 7\n",
      "[1] 6\n",
      "[1] 19\n",
      "[1] 10\n",
      "[1] 7\n",
      "[1] 9\n",
      "[1] 15\n",
      "[1] 9\n",
      "[1] 7\n",
      "[1] 13\n",
      "[1] 22\n",
      "[1] 6\n",
      "[1] 4\n",
      "[1] 10\n",
      "[1] 9\n",
      "[1] 3\n",
      "[1] 13\n",
      "[1] 13\n",
      "[1] 9\n",
      "[1] 6\n",
      "[1] 9\n",
      "[1] 11\n",
      "[1] 7\n",
      "[1] 9\n",
      "[1] 10\n",
      "[1] 0\n",
      "[1] 11\n",
      "[1] 19\n",
      "[1] 9\n",
      "[1] 10\n"
     ]
    }
   ],
   "source": [
    "for (text in shares)\n",
    "    print(text)"
   ]
  },
  {
   "cell_type": "markdown",
   "metadata": {},
   "source": [
    "## Fitting HIP"
   ]
  },
  {
   "cell_type": "markdown",
   "metadata": {},
   "source": [
    "The next step is to fit the parameters of the HIP model to the above video, based on the views and shares series during its first 90 days after upload.\n",
    "Views serves as the observed popularity, while shares is the exogeneous stimuli.\n",
    "The initial parameters can be set manualy (see the function definition), however in this example we let them by default.\n",
    "Note that fitting HIP can take a while."
   ]
  },
  {
   "cell_type": "code",
   "execution_count": 58,
   "metadata": {},
   "outputs": [],
   "source": [
    "oldw <- getOption(\"warn\")\n",
    "options(warn = -1)\n",
    "## We fit the parameters of the HIP model on the first 90 days of video life. \n",
    "## Use the extracted #shares during the same period of 1-90 days as external influence.\n",
    "fitted_params <- fit_series(data_series = views[1:90], ext_infl = list(shares = shares[1:90]),\n",
    "                            lowerBound = c(gamma = 0, eta = 0, K = 0, beta = 0.1, c = -Inf, theta = 0, mu1 = 0),\n",
    "                            upperBound = c(gamma = Inf, eta = Inf, K = Inf, beta = 0.1, c = Inf, theta = Inf, mu1 = Inf) )\n",
    "options(warn = oldw)"
   ]
  },
  {
   "cell_type": "markdown",
   "metadata": {},
   "source": [
    "Let us explore the fitted parameters. Note that both parameters K and beta are present, however beta is fixed at 0.1 using the bouds in the fitting.\n",
    "This is because HIP boundles together these two parameters into the parameter C, as defined in Theorem 2.1 in the paper."
   ]
  },
  {
   "cell_type": "code",
   "execution_count": 59,
   "metadata": {
    "scrolled": false
   },
   "outputs": [
    {
     "name": "stdout",
     "output_type": "stream",
     "text": [
      "      gamma         eta           K        beta           c       theta \n",
      " 917.385494 5042.948836    6.777116    0.100000   10.557258    1.166210 \n",
      "        mu1 \n",
      " 129.117840 \n"
     ]
    }
   ],
   "source": [
    "## print HIP fitted parameters\n",
    "print(fitted_params$model$par)"
   ]
  },
  {
   "cell_type": "markdown",
   "metadata": {},
   "source": [
    "Using the fitted parameters and the external stimuli series (shares), we can simulate the popularity series for the first 90 days.\n",
    "This is useful for evaluating how well did HIP fit the data:"
   ]
  },
  {
   "cell_type": "code",
   "execution_count": 61,
   "metadata": {
    "scrolled": false
   },
   "outputs": [
    {
     "name": "stdout",
     "output_type": "stream",
     "text": [
      "             [,1]     [,2]     [,3]     [,4]     [,5]     [,6]     [,7]\n",
      "observed 7903.000  9842.00 9985.000 8687.000 6902.000 4709.000 5846.000\n",
      "HIP      7889.749 10503.29 8782.314 9267.092 9350.889 7859.724 7450.864\n",
      "             [,8]     [,9]    [,10]   [,11]    [,12]     [,13]    [,14]\n",
      "observed 14451.00 15425.00 13040.00 14285.0 10695.00 11635.000 12792.00\n",
      "HIP      11147.97 11361.58 11037.74 14163.3 11319.33  9883.851 10321.19\n",
      "            [,15]    [,16]    [,17]    [,18]    [,19]    [,20]    [,21]\n",
      "observed 11064.00 10767.00 11136.00 12910.00 12566.00 10264.00 11190.00\n",
      "HIP      10903.84 11375.32 11727.94 13633.86 11985.81 11159.62 11200.14\n",
      "            [,22]   [,23]    [,24]    [,25]    [,26]    [,27]    [,28]    [,29]\n",
      "observed 10027.00 11689.0 12128.00 13275.00 13374.00 10155.00 13200.00 12686.00\n",
      "HIP      11499.97 11164.2 12491.03 14641.28 13505.68 12177.51 12210.22 13277.21\n",
      "            [,30]    [,31]    [,32]    [,33]    [,34]    [,35]   [,36]    [,37]\n",
      "observed 13940.00 11717.00 15163.00 16111.00 11827.00 12688.00 12652.0 14080.00\n",
      "HIP      13867.03 12792.86 16187.67 13510.57 14067.72 14257.03 14577.5 13484.14\n",
      "            [,38]    [,39]    [,40]    [,41]    [,42]    [,43]    [,44]\n",
      "observed 16067.00 18019.00 16479.00 12593.00 13565.00 12566.00 13418.00\n",
      "HIP      16733.09 15843.99 13481.71 13215.86 12946.31 12801.78 14078.11\n",
      "            [,45]    [,46]    [,47]    [,48]    [,49]    [,50]    [,51]\n",
      "observed 13885.00 15320.00 13552.00 10732.00 10525.00  9584.00 11972.00\n",
      "HIP      13858.18 16208.51 13222.27 12561.44 11752.65 10921.91 11491.65\n",
      "            [,52]   [,53]    [,54]    [,55]    [,56]    [,57]    [,58]    [,59]\n",
      "observed 11983.00 14046.0 13043.00  9858.00 14198.00 13271.00 13520.00 13250.00\n",
      "HIP      11580.12 15165.4 12176.21 11897.84 13034.14 13572.81 12837.65 13102.43\n",
      "            [,60]    [,61]    [,62]   [,63]    [,64]    [,65]    [,66]    [,67]\n",
      "observed 14149.00 14055.00 10690.00 12624.0 13705.00 13208.00 14130.00 16700.00\n",
      "HIP      13506.53 11729.29 11947.66 13344.3 11957.48 11417.66 12153.61 16023.03\n",
      "            [,68]    [,69]    [,70]    [,71]    [,72]    [,73]    [,74]\n",
      "observed 18319.00 12262.00 12854.00 12155.00 11497.00 13203.00 15245.00\n",
      "HIP      13840.76 12328.43 11658.94 11228.35 11952.09 12195.57 14000.21\n",
      "            [,75]   [,76]    [,77]    [,78]    [,79]    [,80]    [,81]    [,82]\n",
      "observed 14111.00 11582.0 12625.00 10184.00 12805.00 13197.00 13465.00 11992.00\n",
      "HIP      14452.84 11942.2 11779.85 12780.45 11888.02 12510.19 14322.22 11940.89\n",
      "            [,83]    [,84]    [,85]    [,86]    [,87]    [,88]    [,89]\n",
      "observed  9007.00 10439.00 10457.00 11160.00 12304.00 12100.00 11017.00\n",
      "HIP      12428.65 11391.12 11994.67 12499.22 11346.23 11827.17 11428.41\n",
      "            [,90]\n",
      "observed 10985.00\n",
      "HIP      12178.58\n"
     ]
    }
   ],
   "source": [
    "## based on the fitted parameters, use HIP to generate a fitted series\n",
    "fitted_counts <- generate_simulated_data(params = fitted_params$model$par, time = 89, \n",
    "                                         ext_infl = list(shares = shares[1:90]) )$Count\n",
    "\n",
    "## print the real and the HIP fitted popularity series side-by-side\n",
    "print(rbind(observed = views[1:90], HIP = fitted_counts))"
   ]
  },
  {
   "cell_type": "markdown",
   "metadata": {},
   "source": [
    "Furthermore, we can add the fitted popularity series to the previously constructed graph. Note the tight fit between observed and fitted popularity."
   ]
  },
  {
   "cell_type": "code",
   "execution_count": 62,
   "metadata": {},
   "outputs": [
    {
     "data": {
      "image/png": "[encoded data removed]",
      "text/plain": [
       "Plot with title \"Popularity and exo series for video 'bUORBT9iFKc'\""
      ]
     },
     "metadata": {},
     "output_type": "display_data"
    }
   ],
   "source": [
    "## replot the same thing as above (#views and #shares), but restrict to the first 90 days \n",
    "## and add the fitted series on top\n",
    "dates <- as.Date(dataset$uploadDate[[vidID]]) + 1:length(views) - 1 \n",
    "plot(dates[1:90], views[1:90], type = \"l\", lty = 2, xaxt = \"n\",\n",
    "     xlab = \"\", ylab = \"#views\", \n",
    "     main = sprintf(\"Popularity and exo series for video '%s'\", dataset$YoutubeID[[vidID]] ))\n",
    "lines(x = dates[1:90], y = fitted_counts, col = \"blue\", lty = 1)\n",
    "\n",
    "axis(1, at=dates[seq(from = 1, to = length(views), by = 14)], cex.axis = 1,\n",
    "     labels=dates[seq(from = 1, to = length(views), by = 14)])\n",
    "# and now the external influence on another axis\n",
    "par(new=TRUE)\n",
    "y_limit <- range(shares)\n",
    "# scale it down\n",
    "y_limit[2] <- y_limit[2] * 3\n",
    "plot(x = dates[1:90], y = shares[1:90], type=\"l\", col=\"red\", ylim = y_limit,\n",
    "     xaxt=\"n\", yaxt=\"n\", xlab=\"\", ylab=\"\")\n",
    "axis(4, cex.main = 1.5, cex.axis = 1, cex.lab = 1.5, \n",
    "     at = round(seq(from = range(shares)[1], to = range(shares)[2], \n",
    "                    length.out = 6)) )\n",
    "legend(\"topleft\", legend = c(\"#views\", \"HIP fit\", \"#shares\"), \n",
    "       col = c(\"black\", \"blue\", \"red\"), lty = c(2, 1, 1), bty = \"n\")"
   ]
  },
  {
   "cell_type": "markdown",
   "metadata": {},
   "source": [
    "## Computing measures based on HIP"
   ]
  },
  {
   "cell_type": "markdown",
   "metadata": {},
   "source": [
    "Based on the HIP model fitted here above, we can compute four measures:\n",
    "- two measures (*exogeneous sensitivity* and *endogenous response*) used to explain popularity dynamics (see **WWW '17 paper** for more details);\n",
    "- two measures (*virality score* and *maturity time*) which discribe the video's online popularity potential, under promotion (proposed in the **ICWSM '17** paper)."
   ]
  },
  {
   "cell_type": "code",
   "execution_count": 21,
   "metadata": {},
   "outputs": [
    {
     "name": "stdout",
     "output_type": "stream",
     "text": [
      "           exo           endo virality_score  maturity_time \n",
      "        129.12           1.64         211.84         102.00 \n"
     ]
    }
   ],
   "source": [
    "measures <- get_endogenous_response(params = fitted_params$model$par)\n",
    "\n",
    "measures$exo <- as.numeric(fitted_params$model$par[\"mu1\"])\n",
    "measures$virality_score <- measures$exo * measures$endo\n",
    "\n",
    "print(unlist(measures[c(\"exo\", \"endo\", \"virality_score\", \"maturity_time\")]), digits = 3)"
   ]
  },
  {
   "cell_type": "markdown",
   "metadata": {},
   "source": [
    "## Forecasting with HIP"
   ]
  },
  {
   "cell_type": "markdown",
   "metadata": {},
   "source": [
    "Following the experimental protocol in the paper, we use HIP to forecast the popularity series between days 91 and 120. We add this forecast to the previously constructed graph."
   ]
  },
  {
   "cell_type": "code",
   "execution_count": 63,
   "metadata": {},
   "outputs": [
    {
     "data": {
      "image/png": "[encoded data removed]",
      "text/plain": [
       "Plot with title \"Popularity and exo series for video 'bUORBT9iFKc'\""
      ]
     },
     "metadata": {},
     "output_type": "display_data"
    }
   ],
   "source": [
    "# using HIP and its fitted parameters, get the popularity series from 91 days to 120 days\n",
    "## note that the generate_simulate_data function counts days from 0, so the 120th day is day 119.\n",
    "forecasted_counts <- generate_simulated_data(params = fitted_params$model$par, \n",
    "                                             time = 119, \n",
    "                                             ext_infl = list(shares = shares[1:120]), \n",
    "                                             prefix = views[1:90] )$Count[91:120]\n",
    "\n",
    "## plot again the previous graph, extending the time horizon to 1-120 days and adding the forecast\n",
    "dates <- as.Date(dataset$uploadDate[[vidID]]) + 1:length(views) - 1 \n",
    "plot(dates[1:120], views[1:120], type = \"l\", lty = 2, xaxt = \"n\",\n",
    "     xlab = \"\", ylab = \"#views\", \n",
    "     main = sprintf(\"Popularity and exo series for video '%s'\", dataset$YoutubeID[[vidID]] ))\n",
    "lines(x = dates[1:120], y = c(fitted_counts, rep(x = NA, times = 30)), col = \"blue\", lty = 1)\n",
    "abline(v = dates[90], col = \"gray60\", lty = 2) ##separate training and forecasting with a vertical line\n",
    "lines(x = dates[1:120], y = c(rep(x = NA, times = 90), forecasted_counts), col = \"darkmagenta\", lty = 1)\n",
    "\n",
    "axis(1, at=dates[seq(from = 1, to = length(views), by = 14)], cex.axis = 1,\n",
    "     labels=dates[seq(from = 1, to = length(views), by = 14)])\n",
    "# and now the external influence on another axis\n",
    "par(new=TRUE)\n",
    "y_limit <- range(shares)\n",
    "# scale it down\n",
    "y_limit[2] <- y_limit[2] * 3\n",
    "plot(x = dates[1:90], y = shares[1:90], type=\"l\", col=\"red\", ylim = y_limit,\n",
    "     xaxt=\"n\", yaxt=\"n\", xlab=\"\", ylab=\"\")\n",
    "axis(4, cex.main = 1.5, cex.axis = 1, cex.lab = 1.5, \n",
    "     at = round(seq(from = range(shares)[1], to = range(shares)[2], \n",
    "                    length.out = 6)) )\n",
    "legend(\"topleft\", legend = c(\"#views\", \"HIP fit\", \"HIP forecast\", \"#shares\"), \n",
    "       col = c(\"black\", \"blue\", \"darkmagenta\", \"red\"), lty = c(2, 1, 1, 1), bty = \"n\")"
   ]
  },
  {
   "cell_type": "code",
   "execution_count": 69,
   "metadata": {},
   "outputs": [
    {
     "name": "stdout",
     "output_type": "stream",
     "text": [
      "[1] \"Root Mean Square Error (RMSE): 10.0774889045189\"\n"
     ]
    }
   ],
   "source": [
    "# Assuming fitted_params and other required variables are available\n",
    "\n",
    "# Function to calculate RMSE\n",
    "calculate_rmse <- function(predicted, actual) {\n",
    "  sqrt(mean((predicted - actual)^2))\n",
    "}\n",
    "\n",
    "# Calculate RMSE between forecasted counts and actual views from day 91 to day 120\n",
    "actual_views <- views[91:120]\n",
    "rmse <- calculate_rmse(forecasted_counts, actual_views)\n",
    "\n",
    "# Output the RMSE\n",
    "print(paste(\"Root Mean Square Error (RMSE):\", rmse/100))\n"
   ]
  },
  {
   "cell_type": "code",
   "execution_count": 70,
   "metadata": {},
   "outputs": [],
   "source": [
    "oldw <- getOption(\"warn\")\n",
    "options(warn = -1)\n",
    "## We fit the parameters of the HIP model on the first 90 days of video life. \n",
    "## Use the extracted #shares during the same period of 1-90 days as external influence.\n",
    "fitted_params <- fit_series(data_series = views[1:90], ext_infl = list(dailytweets = dailytweets[1:90]),\n",
    "                            lowerBound = c(gamma = 0, eta = 0, K = 0, beta = 0.1, c = -Inf, theta = 0, mu1 = 0),\n",
    "                            upperBound = c(gamma = Inf, eta = Inf, K = Inf, beta = 0.1, c = Inf, theta = Inf, mu1 = Inf) )\n",
    "options(warn = oldw)"
   ]
  },
  {
   "cell_type": "code",
   "execution_count": 71,
   "metadata": {},
   "outputs": [
    {
     "name": "stdout",
     "output_type": "stream",
     "text": [
      "      gamma         eta           K        beta           c       theta \n",
      "3427.915588 3852.112229    2.748194    0.100000    1.569018    1.520912 \n",
      "        mu1 \n",
      " 268.951369 \n"
     ]
    }
   ],
   "source": [
    "## print HIP fitted parameters\n",
    "print(fitted_params$model$par)"
   ]
  },
  {
   "cell_type": "code",
   "execution_count": 72,
   "metadata": {},
   "outputs": [
    {
     "name": "stdout",
     "output_type": "stream",
     "text": [
      "            [,1]    [,2]     [,3]     [,4]     [,5]     [,6]    [,7]     [,8]\n",
      "observed 7903.00 9842.00 9985.000 8687.000 6902.000 4709.000 5846.00 14451.00\n",
      "HIP      8269.04 7802.04 8690.039 9161.567 9167.754 9486.768 9785.46 10324.49\n",
      "             [,9]    [,10]    [,11]    [,12]    [,13]    [,14]    [,15]\n",
      "observed 15425.00 13040.00 14285.00 10695.00 11635.00 12792.00 11064.00\n",
      "HIP      10373.54 11106.59 10902.46 11563.57 12111.02 11341.05 11827.21\n",
      "            [,16]    [,17]   [,18]    [,19]    [,20]    [,21]    [,22]    [,23]\n",
      "observed 10767.00 11136.00 12910.0 12566.00 10264.00 11190.00 10027.00 11689.00\n",
      "HIP      12514.15 11985.93 12248.5 13153.63 12931.22 11947.05 12272.53 11753.69\n",
      "            [,24]    [,25]    [,26]    [,27]    [,28]    [,29]    [,30]\n",
      "observed 12128.00 13275.00 13374.00 10155.00 13200.00 12686.00 13940.00\n",
      "HIP      12695.35 12371.38 12911.13 13345.06 13816.11 12705.52 12779.84\n",
      "            [,31]    [,32]    [,33]    [,34]    [,35]    [,36]   [,37]   [,38]\n",
      "observed 11717.00 15163.00 16111.00 11827.00 12688.00 12652.00 14080.0 16067.0\n",
      "HIP      13005.24 13860.48 14125.82 12708.27 12409.16 12749.58 14101.7 13672.5\n",
      "            [,39]    [,40]    [,41]    [,42]   [,43]    [,44]    [,45]    [,46]\n",
      "observed 18019.00 16479.00 12593.00 13565.00 12566.0 13418.00 13885.00 15320.00\n",
      "HIP      13983.14 14105.34 12858.65 12560.94 12627.2 12013.68 13142.16 13897.25\n",
      "            [,47]    [,48]    [,49]    [,50]    [,51]    [,52]    [,53]\n",
      "observed 13552.00 10732.00 10525.00  9584.00 11972.00 11983.00 14046.00\n",
      "HIP      13116.91 13297.77 13324.46 13615.61 13711.09 13245.24 13151.58\n",
      "            [,54]    [,55]    [,56]    [,57]    [,58]    [,59]    [,60]\n",
      "observed 13043.00  9858.00 14198.00 13271.00 13520.00 13250.00 14149.00\n",
      "HIP      12822.22 12702.89 13153.34 12968.12 12408.48 13048.59 12887.03\n",
      "            [,61]    [,62]    [,63]    [,64]    [,65]    [,66]   [,67]   [,68]\n",
      "observed 14055.00 10690.00 12624.00 13705.00 13208.00 14130.00 16700.0 18319.0\n",
      "HIP      12880.78 12608.53 12261.25 12935.69 12527.11 12191.86 12339.2 13132.3\n",
      "            [,69]    [,70]    [,71]    [,72]    [,73]    [,74]    [,75]\n",
      "observed 12262.00 12854.00 12155.00 11497.00 13203.00 15245.00 14111.00\n",
      "HIP      12537.08 11919.62 13062.23 12758.45 13034.96 12315.59 12691.28\n",
      "            [,76]    [,77]    [,78]    [,79]    [,80]    [,81]    [,82]\n",
      "observed 11582.00 12625.00 10184.00 12805.00 13197.00 13465.00 11992.00\n",
      "HIP      12462.98 12411.94 12644.32 12691.86 12185.59 12326.12 12580.36\n",
      "            [,83]    [,84]    [,85]    [,86]    [,87]    [,88]    [,89]\n",
      "observed  9007.00 10439.00 10457.00 11160.00 12304.00 12100.00 11017.00\n",
      "HIP      12103.06 12260.79 12795.81 12134.32 12815.42 12420.02 12905.09\n",
      "            [,90]\n",
      "observed 10985.00\n",
      "HIP      13561.74\n"
     ]
    }
   ],
   "source": [
    "## based on the fitted parameters, use HIP to generate a fitted series\n",
    "fitted_counts <- generate_simulated_data(params = fitted_params$model$par, time = 89, \n",
    "                                         ext_infl = list(dailytweets = dailytweets[1:90]) )$Count\n",
    "\n",
    "## print the real and the HIP fitted popularity series side-by-side\n",
    "print(rbind(observed = views[1:90], HIP = fitted_counts))"
   ]
  },
  {
   "cell_type": "code",
   "execution_count": null,
   "metadata": {},
   "outputs": [],
   "source": []
  },
  {
   "cell_type": "code",
   "execution_count": 73,
   "metadata": {
    "scrolled": false
   },
   "outputs": [
    {
     "data": {
      "image/png": "[encoded data removed]",
      "text/plain": [
       "Plot with title \"Popularity and exo series for video 'bUORBT9iFKc'\""
      ]
     },
     "metadata": {},
     "output_type": "display_data"
    }
   ],
   "source": [
    "## replot the same thing as above (#views and #shares), but restrict to the first 90 days \n",
    "## and add the fitted series on top\n",
    "dates <- as.Date(dataset$uploadDate[[vidID]]) + 1:length(views) - 1 \n",
    "plot(dates[1:90], views[1:90], type = \"l\", lty = 2, xaxt = \"n\",\n",
    "     xlab = \"\", ylab = \"#views\", \n",
    "     main = sprintf(\"Popularity and exo series for video '%s'\", dataset$YoutubeID[[vidID]] ))\n",
    "lines(x = dates[1:90], y = fitted_counts, col = \"blue\", lty = 1)\n",
    "\n",
    "axis(1, at=dates[seq(from = 1, to = length(views), by = 14)], cex.axis = 1,\n",
    "     labels=dates[seq(from = 1, to = length(views), by = 14)])\n",
    "# Now add the plot for daily tweets on the same x-axis\n",
    "par(new = TRUE)\n",
    "y_limit_tweets <- range(na.omit(dailytweets))  # Exclude NA values from range calculation\n",
    "# Scale it down (adjust scaling as needed)\n",
    "y_limit_tweets[2] <- y_limit_tweets[2] * 1.5\n",
    "if (!any(is.finite(y_limit_tweets))) {\n",
    "  stop(\"No finite values in 'dailytweets'\")\n",
    "} else {\n",
    "  plot(x = dates, y = dailytweets, type = \"l\", col = \"blue\", ylim = y_limit_tweets,\n",
    "       xaxt = \"n\", yaxt = \"n\", xlab = \"\", ylab = \"\")\n",
    "  axis(4, cex.main = 1.5, cex.axis = 1, cex.lab = 1.5, \n",
    "       at = round(seq(from = y_limit_tweets[1], to = y_limit_tweets[2], length.out = 6)), col = \"blue\")\n",
    "}\n",
    "legend(\"topleft\", legend = c(\"#views\", \"HIP fit\", \"#dailytweets\"), \n",
    "       col = c(\"black\", \"blue\", \"red\"), lty = c(2, 1, 1), bty = \"n\")"
   ]
  },
  {
   "cell_type": "code",
   "execution_count": 74,
   "metadata": {
    "scrolled": false
   },
   "outputs": [
    {
     "data": {
      "image/png": "[encoded data removed]",
      "text/plain": [
       "Plot with title \"Popularity and exo series for video 'bUORBT9iFKc'\""
      ]
     },
     "metadata": {},
     "output_type": "display_data"
    }
   ],
   "source": [
    "# using HIP and its fitted parameters, get the popularity series from 91 days to 120 days\n",
    "## note that the generate_simulate_data function counts days from 0, so the 120th day is day 119.\n",
    "forecasted_counts <- generate_simulated_data(params = fitted_params$model$par, \n",
    "                                             time = 119, \n",
    "                                             ext_infl = list(dailytweets = dailytweets[1:120]), \n",
    "                                             prefix = views[1:90] )$Count[91:120]\n",
    "\n",
    "## plot again the previous graph, extending the time horizon to 1-120 days and adding the forecast\n",
    "dates <- as.Date(dataset$uploadDate[[vidID]]) + 1:length(views) - 1 \n",
    "plot(dates[1:120], views[1:120], type = \"l\", lty = 2, xaxt = \"n\",\n",
    "     xlab = \"\", ylab = \"#views\", \n",
    "     main = sprintf(\"Popularity and exo series for video '%s'\", dataset$YoutubeID[[vidID]] ))\n",
    "lines(x = dates[1:120], y = c(fitted_counts, rep(x = NA, times = 30)), col = \"blue\", lty = 1)\n",
    "abline(v = dates[90], col = \"gray60\", lty = 2) ##separate training and forecasting with a vertical line\n",
    "lines(x = dates[1:120], y = c(rep(x = NA, times = 90), forecasted_counts), col = \"darkmagenta\", lty = 1)\n",
    "\n",
    "axis(1, at=dates[seq(from = 1, to = length(views), by = 14)], cex.axis = 1,\n",
    "     labels=dates[seq(from = 1, to = length(views), by = 14)])\n",
    "legend(\"topleft\", legend = c(\"#views\", \"HIP fit\", \"HIP forecast\", \"#shares\"), \n",
    "       col = c(\"black\", \"blue\", \"darkmagenta\", \"red\"), lty = c(2, 1, 1, 1), bty = \"n\")"
   ]
  },
  {
   "cell_type": "code",
   "execution_count": 75,
   "metadata": {},
   "outputs": [
    {
     "name": "stdout",
     "output_type": "stream",
     "text": [
      "[1] \"Root Mean Square Error (RMSE): 18.283268496742\"\n"
     ]
    }
   ],
   "source": [
    "# Assuming fitted_params and other required variables are available\n",
    "\n",
    "# Function to calculate RMSE\n",
    "calculate_rmse <- function(predicted, actual) {\n",
    "  sqrt(mean((predicted - actual)^2))\n",
    "}\n",
    "\n",
    "# Calculate RMSE between forecasted counts and actual views from day 91 to day 120\n",
    "actual_views <- views[91:120]\n",
    "rmse <- calculate_rmse(forecasted_counts, actual_views)\n",
    "\n",
    "# Output the RMSE\n",
    "print(paste(\"Root Mean Square Error (RMSE):\", rmse/100))\n"
   ]
  },
  {
   "cell_type": "code",
   "execution_count": 77,
   "metadata": {},
   "outputs": [
    {
     "name": "stdout",
     "output_type": "stream",
     "text": [
      "'data.frame':\t90 obs. of  2 variables:\n",
      " $ views : int  7903 9842 9985 8687 6902 4709 5846 14451 15425 13040 ...\n",
      " $ shares: int  54 40 24 26 25 12 8 36 36 32 ...\n"
     ]
    },
    {
     "data": {
      "text/html": [
       "<table>\n",
       "<thead><tr><th scope=col>views</th><th scope=col>shares</th></tr></thead>\n",
       "<tbody>\n",
       "\t<tr><td>7903</td><td>54  </td></tr>\n",
       "\t<tr><td>9842</td><td>40  </td></tr>\n",
       "\t<tr><td>9985</td><td>24  </td></tr>\n",
       "\t<tr><td>8687</td><td>26  </td></tr>\n",
       "\t<tr><td>6902</td><td>25  </td></tr>\n",
       "\t<tr><td>4709</td><td>12  </td></tr>\n",
       "</tbody>\n",
       "</table>\n"
      ],
      "text/latex": [
       "\\begin{tabular}{r|ll}\n",
       " views & shares\\\\\n",
       "\\hline\n",
       "\t 7903 & 54  \\\\\n",
       "\t 9842 & 40  \\\\\n",
       "\t 9985 & 24  \\\\\n",
       "\t 8687 & 26  \\\\\n",
       "\t 6902 & 25  \\\\\n",
       "\t 4709 & 12  \\\\\n",
       "\\end{tabular}\n"
      ],
      "text/markdown": [
       "\n",
       "| views | shares |\n",
       "|---|---|\n",
       "| 7903 | 54   |\n",
       "| 9842 | 40   |\n",
       "| 9985 | 24   |\n",
       "| 8687 | 26   |\n",
       "| 6902 | 25   |\n",
       "| 4709 | 12   |\n",
       "\n"
      ],
      "text/plain": [
       "  views shares\n",
       "1 7903  54    \n",
       "2 9842  40    \n",
       "3 9985  24    \n",
       "4 8687  26    \n",
       "5 6902  25    \n",
       "6 4709  12    "
      ]
     },
     "metadata": {},
     "output_type": "display_data"
    }
   ],
   "source": [
    "# Assuming 'views' and 'shares' are your vectors containing respective data\n",
    "\n",
    "# Create a dataframe using views and shares\n",
    "data <- data.frame(views = views[1:90], shares = shares[1:90])\n",
    "\n",
    "# Check the structure of the newly created dataframe\n",
    "str(data)\n",
    "\n",
    "# Display the first few rows of the dataframe\n",
    "head(data)\n",
    "\n"
   ]
  },
  {
   "cell_type": "code",
   "execution_count": 78,
   "metadata": {},
   "outputs": [
    {
     "data": {
      "image/png": "[encoded data removed]",
      "text/plain": [
       "Plot with title \"Relationship between Shares and Views\""
      ]
     },
     "metadata": {},
     "output_type": "display_data"
    }
   ],
   "source": [
    "plot(data$shares, data$views, \n",
    "     xlab = \"Shares\", ylab = \"Views\",\n",
    "     main = \"Relationship between Shares and Views\",\n",
    "     col = \"blue\", pch = 16)"
   ]
  },
  {
   "cell_type": "code",
   "execution_count": 82,
   "metadata": {},
   "outputs": [
    {
     "data": {
      "text/plain": [
       "\n",
       "Call:\n",
       "lm(formula = views ~ shares, data = train_data)\n",
       "\n",
       "Residuals:\n",
       "   Min     1Q Median     3Q    Max \n",
       " -5353  -1208     81   1282   5443 \n",
       "\n",
       "Coefficients:\n",
       "            Estimate Std. Error t value Pr(>|t|)    \n",
       "(Intercept)  8454.06     638.95  13.231  < 2e-16 ***\n",
       "shares        134.00      21.17   6.329 2.04e-08 ***\n",
       "---\n",
       "Signif. codes:  0 '***' 0.001 '**' 0.01 '*' 0.05 '.' 0.1 ' ' 1\n",
       "\n",
       "Residual standard error: 1946 on 70 degrees of freedom\n",
       "Multiple R-squared:  0.3639,\tAdjusted R-squared:  0.3549 \n",
       "F-statistic: 40.05 on 1 and 70 DF,  p-value: 2.04e-08\n"
      ]
     },
     "metadata": {},
     "output_type": "display_data"
    },
    {
     "name": "stdout",
     "output_type": "stream",
     "text": [
      "       1        2        3        4        5        6        7        8 \n",
      "15689.97 12742.01 15823.97 12876.01 12206.01 12876.01 13278.00 15421.97 \n",
      "       9       10       11       12       13       14       15       16 \n",
      "12206.01 11268.03 11938.02 10732.03 10464.04 10196.04 13144.00 10732.03 \n",
      "      17       18 \n",
      "11536.02 10866.03 \n"
     ]
    }
   ],
   "source": [
    "\n",
    "# Assuming 'data' contains 'views' and 'shares'\n",
    "\n",
    "# Split data into training and testing sets\n",
    "set.seed(123)  # For reproducibility\n",
    "train_indices <- sample(nrow(data), 0.8 * nrow(data))  # 80% for training, change this ratio as needed\n",
    "\n",
    "train_data <- data[train_indices, ]\n",
    "test_data <- data[-train_indices, ]\n",
    "\n",
    "# Fit multivariate linear regression model on the training data\n",
    "lm_model <- lm(views ~ shares, data = train_data)\n",
    "\n",
    "# Summary of the linear regression model\n",
    "summary(lm_model)\n",
    "\n",
    "# Extract new shares from the test data for prediction\n",
    "new_shares <- test_data$shares\n",
    "\n",
    "# Predict views based on new shares using the fitted model\n",
    "predicted_views <- predict(lm_model, newdata = data.frame(shares = new_shares))\n",
    "\n",
    "# Output the predicted views\n",
    "print(predicted_views)\n"
   ]
  },
  {
   "cell_type": "code",
   "execution_count": 83,
   "metadata": {},
   "outputs": [
    {
     "data": {
      "image/png": "[encoded data removed]",
      "text/plain": [
       "Plot with title \"Original Views vs Predicted Values\""
      ]
     },
     "metadata": {},
     "output_type": "display_data"
    }
   ],
   "source": [
    "# Assuming 'test_data' contains the test set with 'shares' and 'views'\n",
    "# 'predicted_views' contains the predicted values based on new shares\n",
    "\n",
    "# Create a sequence of indices for plotting\n",
    "indices <- seq_along(test_data$views)\n",
    "\n",
    "# Plot original 'views' and predicted values\n",
    "plot(indices, test_data$views, type = \"o\", col = \"blue\", pch = 16, \n",
    "     xlab = \"Observation Index\", ylab = \"Views\", main = \"Original Views vs Predicted Values\")\n",
    "lines(indices, predicted_views, col = \"red\", type = \"o\", pch = 16)\n",
    "legend(\"topright\", legend = c(\"Original Views\", \"Predicted Views\"), col = c(\"blue\", \"red\"), lty = 1, pch = 16)\n"
   ]
  },
  {
   "cell_type": "code",
   "execution_count": 85,
   "metadata": {},
   "outputs": [
    {
     "name": "stdout",
     "output_type": "stream",
     "text": [
      "[1] \"Root Mean Squared Error (RMSE): 24.2277048278301\"\n"
     ]
    }
   ],
   "source": [
    "# Assuming 'test_data' contains the test set with 'views'\n",
    "# 'predicted_views' contains the predicted values based on new shares\n",
    "\n",
    "# Calculate RMSE between predicted and actual values\n",
    "rmse <- sqrt(mean((test_data$views - predicted_views)^2))\n",
    "\n",
    "# Output the RMSE\n",
    "print(paste(\"Root Mean Squared Error (RMSE):\", rmse/100))\n"
   ]
  },
  {
   "cell_type": "markdown",
   "metadata": {},
   "source": [
    "\n"
   ]
  },
  {
   "cell_type": "markdown",
   "metadata": {},
   "source": []
  },
  {
   "cell_type": "markdown",
   "metadata": {},
   "source": []
  },
  {
   "cell_type": "markdown",
   "metadata": {},
   "source": []
  }
 ],
 "metadata": {
  "kernelspec": {
   "display_name": "R",
   "language": "R",
   "name": "ir"
  },
  "language_info": {
   "codemirror_mode": "r",
   "file_extension": ".r",
   "mimetype": "text/x-r-source",
   "name": "R",
   "pygments_lexer": "r",
   "version": "3.6.1"
  }
 },
 "nbformat": 4,
 "nbformat_minor": 1
}
